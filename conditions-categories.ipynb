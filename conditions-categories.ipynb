# Load the data
data = scipy.io.loadmat(stimuli_data, struct_as_record=False, squeeze_me=True)
visual_stimuli = data['visual_stimuli']

# Extract categories and create a mapping from category to conditions
category_mapping = {}
for i, stim in enumerate(visual_stimuli):
    category = stim.category
    if category not in category_mapping:
        category_mapping[category] = []
    category_mapping[category].append(i)

# Function to display an image and its categories
def display_image_and_categories(condition_index):
    clear_output(wait=True)
    display(category_dropdown, subcategory_dropdown)

    # Access the selected condition
    condition = visual_stimuli[condition_index]
    pixel_values = condition.pixel_values  # Assuming this contains the image data
    
    # Convert pixel values to an image using PIL
    try:
        image = Image.fromarray(pixel_values)
        plt.figure(figsize=(5, 5))
        plt.imshow(image)
        plt.axis('off')
        plt.title(f'Condition: {condition_index + 1}')
        plt.show()
    except Exception as e:
        print("Failed to display image using PIL:", str(e))

    # Display categories
    print("Categories:")
    for category in ['category', 'human', 'face', 'animal', 'natural']:
        if hasattr(condition, category):
            print(f"{category.capitalize()}: {getattr(condition, category)}")

# Create a dropdown for selecting the category
category_dropdown = widgets.Dropdown(
    options=sorted(category_mapping.keys()),
    description='Select Category:',
    value=sorted(category_mapping.keys())[0]
)

# Create a dropdown for selecting the subcategory (condition)
subcategory_dropdown = widgets.Dropdown(
    options=[f'cond{i+1:04d}' for i in category_mapping[category_dropdown.value]],
    description='Select Condition:',
    value=f'cond{category_mapping[category_dropdown.value][0]+1:04d}'
)

# Update subcategory options based on selected category
def on_category_change(change):
    if change['type'] == 'change' and change['name'] == 'value':
        new_category = change['new']
        subcategory_options = [f'cond{i+1:04d}' for i in category_mapping[new_category]]
        subcategory_dropdown.options = subcategory_options
        subcategory_dropdown.value = subcategory_options[0]

# Update display based on selected subcategory
def on_subcategory_change(change):
    if 'type' in change and change['type'] == 'change' and change['name'] == 'value':
        condition_index = int(change['new'][-4:]) - 1
        display_image_and_categories(condition_index)

category_dropdown.observe(on_category_change, names='value')
subcategory_dropdown.observe(on_subcategory_change, names='value')

# Initial display
display(category_dropdown, subcategory_dropdown)
on_subcategory_change({'new': subcategory_dropdown.value})
